{
  "cells": [
    {
      "cell_type": "markdown",
      "metadata": {
      },
      "source": [
        "## 1. The Bernstein-Vazirani Algorithm<a id=\"algorithm\"></a>\n",
        "\n",
        "The Bernstein-Vazirani algorithm, first introduced in Reference [1], can be seen as an extension of the Deutsch-Jozsa algorithm we covered in the last section. It showed that there can be advantages in using a quantum computer as a computational tool for more complex problems than the Deutsch-Jozsa problem.\n",
        "\n",
        "### 1.1 The Bernstein-Vazirani Problem <a id=\"bvproblem\"> </a>\n",
        "\n",
        "We are again given a black-box function $f$, which takes as input a string of bits ($x$), and returns either $0$ or $1$, that is: $$f(\\{x_0,x_1,x_2,...\\}) \\rightarrow 0 \\textrm{ or } 1 \\textrm{ where } x_n \\textrm{ is }0 \\textrm{ or } 1  $$\n",
        "\n",
        "Instead of the function being balanced or constant as in the Deutsch-Jozsa problem, now the function is guaranteed to return the bitwise product of the input with some string, $s$. In other words, given an input $x$, $f(x) = s \\cdot x , \\text{(mod 2)}$. We are expected to find $s$. As a classical reversible circuit, the Bernstein-Vazirani oracle looks like this:\n",
        "\n",
        "![classical reversible circuit](images/bv2.png)\n",
        "\n",
        "### 1.2 The Classical Solution <a id=\"classical-solution\"> </a>\n",
        "\n",
        "Classically, the oracle returns: $$f_s(x) = s \\cdot x \\mod 2$$ given an input $x$. Thus, the hidden bit string $s$ can be revealed by querying the oracle with the sequence of inputs:\n",
        "\n",
        "Input(x)\n",
        ":-:\n",
        "100...0\n",
        "010...0\n",
        "001...0\n",
        "000...1\n",
        "\n",
        "Where each query reveals a different bit of $s$ (the bit $s_i$). For example, with `x = 1000...0` one can obtain the least significant bit of $s$, with `x = 0100...0` we can find the next least significant, and so on. This means we would need to call the function $f_s(x)$, $n$ times. "
      ]
    },
    {
      "cell_type": "markdown",
      "metadata": {
      },
      "source": [
        "### 1.3 The Quantum Solution <a id=\"quantum-solution\"> </a>\n",
        "\n",
        "Using a quantum computer, we can solve this problem with 100% confidence after only one call to the function $f(x)$. The quantum Bernstein-Vazirani algorithm to find the hidden bit string is very simple:\n",
        "\n",
        "1. Initialize the inputs qubits to the $|0\\rangle^{\\otimes n}$ state, and output qubit to $|{-}\\rangle$.\n",
        "2. Apply Hadamard gates to the input register\n",
        "3. Query the oracle\n",
        "4. Apply Hadamard gates to the input register\n",
        "5. Measure\n",
        "\n",
        "![Bernstein-Vazirani quantum circuit](images/bv1.png)\n",
        "\n",
        "To explain the algorithm, let’s look more closely at what happens when we apply a H-gate to each qubit. If we have an $n$-qubit state, $|a\\rangle$, and apply the H-gates, we will see the transformation:\n",
        "\n",
        "$$\n",
        "|a\\rangle \\xrightarrow{H^{\\otimes n}} \\frac{1}{\\sqrt{2^n}} \\sum_{x\\in \\{0,1\\}^n} (-1)^{a\\cdot x}|x\\rangle.\n",
        "$$\n",
        "\n",
        "<details>     <summary>Explain Equation (Click to Expand)</summary>  We remember the Hadamard performs the following transformations on one qubit:  $$ H|0\\rangle = \\tfrac{1}{\\sqrt{2}}(|0\\rangle + |1\\rangle) $$ $$ H|1\\rangle = \\tfrac{1}{\\sqrt{2}}(|0\\rangle - |1\\rangle) $$  Using summation notation, we could rewrite it like this:  $$ H|a\\rangle = \\frac{1}{\\sqrt{2}}\\sum_{x\\in \\{0,1\\}} (-1)^{a\\cdot x}|x\\rangle. $$  For two qubits, applying a Hadamard to each performs the following transformations:  $$ H^{\\otimes 2}|00\\rangle = \\tfrac{1}{2}(|00\\rangle + |01\\rangle + |10\\rangle + |11\\rangle) $$ $$ H^{\\otimes 2}|01\\rangle = \\tfrac{1}{2}(|00\\rangle - |01\\rangle + |10\\rangle - |11\\rangle) $$ $$ H^{\\otimes 2}|10\\rangle = \\tfrac{1}{2}(|00\\rangle + |01\\rangle - |10\\rangle - |11\\rangle) $$ $$ H^{\\otimes 2}|11\\rangle = \\tfrac{1}{2}(|00\\rangle - |01\\rangle - |10\\rangle + |11\\rangle) $$  We can express this using the summation below:  $$ H^{\\otimes 2}|a\\rangle = \\frac{1}{2}\\sum_{x\\in \\{0,1\\}^2} (-1)^{a\\cdot x}|x\\rangle $$  You will hopefully now see how we arrive at the equation above. </details>\n",
        "\n",
        "In particular, when we start with a quantum register $|00\\dots 0\\rangle$ and apply $n$ Hadamard gates to it, we have the familiar quantum superposition:\n",
        "\n",
        "$$\n",
        "|00\\dots 0\\rangle \\xrightarrow{H^{\\otimes n}} \\frac{1}{\\sqrt{2^n}} \\sum_{x\\in \\{0,1\\}^n} |x\\rangle\n",
        "$$\n",
        "\n",
        "In this case, the phase term $(-1)^{a\\cdot x}$ disappears, since $a=0$, and thus $(-1)^{a\\cdot x} = 1$.\n",
        "\n",
        "The classical oracle $f_s$ returns $1$ for any input $x$ such that $s \\cdot x\\mod 2 = 1$, and returns $0$ otherwise. If we use the same phase kickback trick from the Deutsch-Jozsa algorithm and act on a qubit in the state $|{-}\\rangle$, we get the following transformation:\n",
        "\n",
        "$$\n",
        "|x \\rangle \\xrightarrow{f_s} (-1)^{s\\cdot x} |x \\rangle \n",
        "$$\n",
        "\n",
        "The algorithm to reveal the hidden bit string follows naturally by querying the quantum oracle $f_s$ with the quantum superposition obtained from the Hadamard transformation of $|00\\dots 0\\rangle$. Namely,\n",
        "\n",
        "$$\n",
        "|00\\dots 0\\rangle \\xrightarrow{H^{\\otimes n}} \\frac{1}{\\sqrt{2^n}} \\sum_{x\\in \\{0,1\\}^n} |x\\rangle \\xrightarrow{f_a} \\frac{1}{\\sqrt{2^n}} \\sum_{x\\in \\{0,1\\}^n} (-1)^{a\\cdot x}|x\\rangle\n",
        "$$\n",
        "\n",
        "Because the inverse of the $n$ Hadamard gates is again the $n$ Hadamard gates, we can obtain $a$ by\n",
        "\n",
        "$$\n",
        "\\frac{1}{\\sqrt{2^n}} \\sum_{x\\in \\{0,1\\}^n} (-1)^{a\\cdot x}|x\\rangle \\xrightarrow{H^{\\otimes n}} |a\\rangle\n",
        "$$"
      ]
    },
    {
      "cell_type": "markdown",
      "metadata": {
      },
      "source": [
        "## 2. Example  <a id=\"example\"></a>\n",
        "\n",
        "Let's go through a specific example for $n=2$ qubits and a secret string $s=11$. Note that we are following the formulation in Reference [2] that generates a circuit for the Bernstein-Vazirani quantum oracle using only one register.\n",
        "\n",
        "<ol>\n",
        "    <li> The register of two qubits is initialized to zero:       $$\\lvert \\psi_0 \\rangle = \\lvert 0 0 \\rangle$$</li>\n",
        "\n",
        "   <li> Apply a Hadamard gate to both qubits:       $$\\lvert \\psi_1 \\rangle = \\frac{1}{2} \\left( \\lvert 0 0 \\rangle + \\lvert 0 1 \\rangle + \\lvert 1 0 \\rangle + \\lvert 1 1 \\rangle \\right) $$</li>\n",
        "\n",
        "   <li> For the string $s=11$, the quantum oracle performs the operation: $$\n",
        "|x \\rangle \\xrightarrow{f_s} (-1)^{x\\cdot 11} |x \\rangle. \n",
        "$$  $$\\lvert \\psi_2 \\rangle = \\frac{1}{2} \\left( (-1)^{00\\cdot 11}|00\\rangle + (-1)^{01\\cdot 11}|01\\rangle + (-1)^{10\\cdot 11}|10\\rangle + (-1)^{11\\cdot 11}|11\\rangle \\right)$$  $$\\lvert \\psi_2 \\rangle = \\frac{1}{2} \\left( \\lvert 0 0 \\rangle - \\lvert 0 1 \\rangle - \\lvert 1 0 \\rangle + \\lvert 1 1 \\rangle \\right)$$</li>\n",
        "\n",
        "   <li> Apply a Hadamard gate to both qubits:       $$\\lvert \\psi_3 \\rangle = \\lvert 1 1 \\rangle$$</li>\n",
        "\n",
        "   <li> Measure to find the secret string $s=11$</li>\n",
        "\n",
        "\n",
        "</ol>\n",
        "\n",
        "Use the widget `bv_widget` below. Press the buttons to apply the different steps, and try to follow the algorithm through. You can change the number of input qubits and the value of the secret string through the first two positional arguments."
      ]
    }
  ],
  "metadata": {
    "kernelspec": {
      "display_name": "Python 3",
      "language": "python",
      "name": "python3"
    },
    "language_info": {
      "codemirror_mode": {
        "name": "ipython",
        "version": 3
      },
      "file_extension": ".py",
      "mimetype": "text/x-python",
      "name": "python",
      "nbconvert_exporter": "python",
      "pygments_lexer": "ipython3",
      "version": "3.9"
    }
  },
  "nbformat": 4,
  "nbformat_minor": 2
}
